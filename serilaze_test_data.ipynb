{
 "cells": [
  {
   "cell_type": "markdown",
   "metadata": {},
   "source": [
    "# Serelizing the test data\n",
    "This code will take the images on the \"test\" folder inside datavase_raw, and make a file containig its values into a file. The test data consists of live images of the person's face (different from the ones used in the trainnig stage), and the spoofed ones (\"real\" spoofed images, not the ones artificially generated).\n",
    "> See \"serilize_train_data\" to better understaing of the directory organization"
   ]
  },
  {
   "cell_type": "code",
   "execution_count": 1,
   "metadata": {},
   "outputs": [],
   "source": [
    "import os\n",
    "import pickle \n",
    "import cv2\n",
    "import numpy as np\n",
    "import random\n",
    "import matplotlib.pyplot as plt"
   ]
  },
  {
   "cell_type": "code",
   "execution_count": 2,
   "metadata": {},
   "outputs": [],
   "source": [
    "person = \"001\"\n",
    "test_folder = os.path.join(\"database_raw\",\"test\")\n",
    "tags = [\"Live\", \"Spoof\"]\n",
    "data_folder = \"database_serialized\""
   ]
  },
  {
   "cell_type": "code",
   "execution_count": 3,
   "metadata": {},
   "outputs": [],
   "source": [
    "def get_data_person(person_folder):\n",
    "    test_data = []\n",
    "    count = 0\n",
    "    for tag in tags:\n",
    "        files_folder = os.path.join(person_folder,tag)\n",
    "        files = os.listdir(files_folder)\n",
    "        for file in files:\n",
    "            try:\n",
    "                img = cv2.imread(os.path.join(files_folder,file))\n",
    "                test_data.append([img,count])\n",
    "\n",
    "            except Exception:\n",
    "                print(f\"Fail to load {file}\")\n",
    "        count += 1 \n",
    "    return test_data"
   ]
  },
  {
   "cell_type": "code",
   "execution_count": 4,
   "metadata": {},
   "outputs": [],
   "source": [
    "people = os.listdir(test_folder)\n",
    "for person in people:\n",
    "    test_data = get_data_person(os.path.join(test_folder,person))\n",
    "    X = []\n",
    "    y = []   \n",
    "    random.shuffle(test_data)\n",
    "    for features, label in test_data:\n",
    "        X.append(features)\n",
    "        y.append(label)\n",
    "\n",
    "    img_size = len(X[0]) \n",
    "    X = np.array(X).reshape(-1,img_size,img_size,3)\n",
    "    X.shape\n",
    "    # Save data into memory\n",
    "    pickle_out = open(os.path.join(data_folder,person,f\"X{person}Test.pickle\"),\"wb\")\n",
    "    pickle.dump(X,pickle_out)\n",
    "    pickle_out.close()\n",
    "    pickle_out = open(os.path.join(data_folder,person,f\"y{person}Test.pickle\"),\"wb\")\n",
    "    pickle.dump(y,pickle_out)\n",
    "    pickle_out.close()\n",
    "    del X,y,test_data"
   ]
  },
  {
   "cell_type": "code",
   "execution_count": 5,
   "metadata": {},
   "outputs": [
    {
     "ename": "NameError",
     "evalue": "name 'X' is not defined",
     "output_type": "error",
     "traceback": [
      "\u001b[1;31m---------------------------------------------------------------------------\u001b[0m",
      "\u001b[1;31mNameError\u001b[0m                                 Traceback (most recent call last)",
      "\u001b[1;32m<ipython-input-5-d796477384b4>\u001b[0m in \u001b[0;36m<module>\u001b[1;34m\u001b[0m\n\u001b[0;32m      5\u001b[0m \u001b[0mncols\u001b[0m \u001b[1;33m=\u001b[0m \u001b[1;36m4\u001b[0m\u001b[1;33m\u001b[0m\u001b[1;33m\u001b[0m\u001b[0m\n\u001b[0;32m      6\u001b[0m \u001b[0mstart\u001b[0m \u001b[1;33m=\u001b[0m \u001b[1;36m4\u001b[0m\u001b[1;33m\u001b[0m\u001b[1;33m\u001b[0m\u001b[0m\n\u001b[1;32m----> 7\u001b[1;33m \u001b[0mX_sample\u001b[0m \u001b[1;33m=\u001b[0m \u001b[0mX\u001b[0m\u001b[1;33m[\u001b[0m\u001b[0mstart\u001b[0m\u001b[1;33m:\u001b[0m\u001b[0mstart\u001b[0m \u001b[1;33m+\u001b[0m\u001b[0mnrows\u001b[0m\u001b[1;33m*\u001b[0m\u001b[0mncols\u001b[0m\u001b[1;33m]\u001b[0m\u001b[1;33m\u001b[0m\u001b[1;33m\u001b[0m\u001b[0m\n\u001b[0m\u001b[0;32m      8\u001b[0m \u001b[0mi\u001b[0m \u001b[1;33m=\u001b[0m \u001b[0mstart\u001b[0m\u001b[1;33m\u001b[0m\u001b[1;33m\u001b[0m\u001b[0m\n\u001b[0;32m      9\u001b[0m \u001b[1;32mfor\u001b[0m \u001b[0mimg\u001b[0m \u001b[1;32min\u001b[0m \u001b[0mX_sample\u001b[0m\u001b[1;33m:\u001b[0m\u001b[1;33m\u001b[0m\u001b[1;33m\u001b[0m\u001b[0m\n",
      "\u001b[1;31mNameError\u001b[0m: name 'X' is not defined"
     ]
    },
    {
     "data": {
      "text/plain": [
       "<Figure size 720x720 with 0 Axes>"
      ]
     },
     "metadata": {},
     "output_type": "display_data"
    }
   ],
   "source": [
    "%matplotlib inline\n",
    "# plot images to see if they are good and correctly labeled\n",
    "plt.figure(figsize=(10,10))\n",
    "nrows = 4\n",
    "ncols = 4\n",
    "start = 4\n",
    "X_sample = X[start:start +nrows*ncols]\n",
    "i = start\n",
    "for img in X_sample:\n",
    "    plt.subplot(nrows,ncols,i-start+1)\n",
    "    plt.axis(\"off\")\n",
    "    plt.imshow(cv2.cvtColor(img, cv2.COLOR_BGR2RGB))\n",
    "    plt.title(f\"{y[i]}\")\n",
    "    i += 1"
   ]
  },
  {
   "cell_type": "code",
   "execution_count": null,
   "metadata": {},
   "outputs": [],
   "source": []
  }
 ],
 "metadata": {
  "kernelspec": {
   "display_name": "face_spoofing",
   "language": "python",
   "name": "face_spoofing"
  },
  "language_info": {
   "codemirror_mode": {
    "name": "ipython",
    "version": 3
   },
   "file_extension": ".py",
   "mimetype": "text/x-python",
   "name": "python",
   "nbconvert_exporter": "python",
   "pygments_lexer": "ipython3",
   "version": "3.7.4"
  }
 },
 "nbformat": 4,
 "nbformat_minor": 2
}
